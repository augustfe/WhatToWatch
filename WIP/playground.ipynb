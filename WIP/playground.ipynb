{
 "cells": [
  {
   "cell_type": "code",
   "execution_count": 1,
   "metadata": {},
   "outputs": [
    {
     "name": "stdout",
     "output_type": "stream",
     "text": [
      "Collecting cinemagoer\n",
      "  Downloading cinemagoer-2023.5.1-py3-none-any.whl (297 kB)\n",
      "\u001b[2K     \u001b[90m━━━━━━━━━━━━━━━━━━━━━━━━━━━━━━━━━━━━━━\u001b[0m \u001b[32m297.2/297.2 kB\u001b[0m \u001b[31m13.0 MB/s\u001b[0m eta \u001b[36m0:00:00\u001b[0m\n",
      "\u001b[?25hCollecting SQLAlchemy\n",
      "  Downloading SQLAlchemy-2.0.19-cp39-cp39-macosx_11_0_arm64.whl (2.0 MB)\n",
      "\u001b[2K     \u001b[90m━━━━━━━━━━━━━━━━━━━━━━━━━━━━━━━━━━━━━━━━\u001b[0m \u001b[32m2.0/2.0 MB\u001b[0m \u001b[31m25.8 MB/s\u001b[0m eta \u001b[36m0:00:00\u001b[0m00:01\u001b[0m00:01\u001b[0m\n",
      "\u001b[?25hRequirement already satisfied: lxml in /Users/augustfemtehjell/opt/miniconda3/lib/python3.9/site-packages (from cinemagoer) (4.9.1)\n",
      "Requirement already satisfied: typing-extensions>=4.2.0 in /Users/augustfemtehjell/opt/miniconda3/lib/python3.9/site-packages (from SQLAlchemy->cinemagoer) (4.4.0)\n",
      "Installing collected packages: SQLAlchemy, cinemagoer\n",
      "Successfully installed SQLAlchemy-2.0.19 cinemagoer-2023.5.1\n"
     ]
    }
   ],
   "source": [
    "!pip3 install cinemagoer"
   ]
  },
  {
   "cell_type": "code",
   "execution_count": 16,
   "metadata": {},
   "outputs": [],
   "source": [
    "from imdb import Cinemagoer\n",
    "from IPython.display import clear_output\n",
    "ia = Cinemagoer()"
   ]
  },
  {
   "cell_type": "code",
   "execution_count": 8,
   "metadata": {},
   "outputs": [],
   "source": [
    "movies = ia.search_movie('bones')"
   ]
  },
  {
   "cell_type": "code",
   "execution_count": 30,
   "metadata": {},
   "outputs": [
    {
     "data": {
      "text/plain": [
       "[('title', 'Bones'),\n",
       " ('year', 2005),\n",
       " ('imdbIndex', '2017'),\n",
       " ('kind', 'tv series'),\n",
       " ('cover url',\n",
       "  'https://m.media-amazon.com/images/M/MV5BMjA3ODMxMzM5NF5BMl5BanBnXkFtZTgwMDM1NjU0OTE@._V1_QL75_UX50_CR0,2,50,74_.jpg'),\n",
       " ('canonical title', 'Bones'),\n",
       " ('long imdb title', '\"Bones\" (2017) (2005)'),\n",
       " ('long imdb canonical title', '\"Bones\" (2017) (2005)'),\n",
       " ('smart canonical title', 'Bones'),\n",
       " ('smart long imdb canonical title', '\"Bones\" (2017) (2005)'),\n",
       " ('full-size cover url',\n",
       "  'https://m.media-amazon.com/images/M/MV5BMjA3ODMxMzM5NF5BMl5BanBnXkFtZTgwMDM1NjU0OTE@.jpg')]"
      ]
     },
     "execution_count": 30,
     "metadata": {},
     "output_type": "execute_result"
    }
   ],
   "source": [
    "movies[0].items()"
   ]
  },
  {
   "cell_type": "code",
   "execution_count": 31,
   "metadata": {},
   "outputs": [],
   "source": [
    "from csv import writer\n",
    "\n",
    "def addToList(name: str) -> None:\n",
    "    movies = ia.search_movie(name)\n",
    "    found = False\n",
    "    correct = None\n",
    "    print('Assert correct found [y/n]')\n",
    "    for movie in movies:\n",
    "        response = input(f\"{movie['long imdb title']} [y/n]\")\n",
    "        if response == 'y':\n",
    "            correct = movie\n",
    "            break\n",
    "        clear_output(wait=True)\n",
    "\n",
    "    if correct is None:\n",
    "        print(\"Series was not found\")\n",
    "\n",
    "    with open('serier.csv', 'a') as f_object:\n",
    "        writer_object = writer(f_object)\n",
    "        title = correct['title']\n",
    "        ID = correct.getID()\n",
    "        writer_object.writerow([title, ID])\n",
    "\n",
    "        f_object.close()\n",
    "    \n"
   ]
  },
  {
   "cell_type": "code",
   "execution_count": 33,
   "metadata": {},
   "outputs": [
    {
     "name": "stdout",
     "output_type": "stream",
     "text": [
      "Assert correct found [y/n]\n"
     ]
    }
   ],
   "source": [
    "addToList('How i met your mother')"
   ]
  }
 ],
 "metadata": {
  "kernelspec": {
   "display_name": "base",
   "language": "python",
   "name": "python3"
  },
  "language_info": {
   "codemirror_mode": {
    "name": "ipython",
    "version": 3
   },
   "file_extension": ".py",
   "mimetype": "text/x-python",
   "name": "python",
   "nbconvert_exporter": "python",
   "pygments_lexer": "ipython3",
   "version": "3.9.13"
  },
  "orig_nbformat": 4
 },
 "nbformat": 4,
 "nbformat_minor": 2
}
